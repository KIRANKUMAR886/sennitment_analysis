{
  "nbformat": 4,
  "nbformat_minor": 0,
  "metadata": {
    "colab": {
      "name": "Untitled4.ipynb",
      "version": "0.3.2",
      "provenance": [],
      "collapsed_sections": [],
      "include_colab_link": true
    },
    "kernelspec": {
      "name": "python3",
      "display_name": "Python 3"
    }
  },
  "cells": [
    {
      "cell_type": "markdown",
      "metadata": {
        "id": "view-in-github",
        "colab_type": "text"
      },
      "source": [
        "<a href=\"https://colab.research.google.com/github/KIRANKUMAR886/sennitment_analysis/blob/master/keras_sentiment_analysis.ipynb\" target=\"_parent\"><img src=\"https://colab.research.google.com/assets/colab-badge.svg\" alt=\"Open In Colab\"/></a>"
      ]
    },
    {
      "cell_type": "code",
      "metadata": {
        "id": "ZS3aJfwOx_W9",
        "colab_type": "code",
        "colab": {}
      },
      "source": [
        "from keras.preprocessing import sequence\n",
        "from keras.models import Sequential\n",
        "from keras.layers import Dense, Embedding, GlobalMaxPooling1D, Flatten, Conv1D, Dropout, Activation\n",
        "from keras.preprocessing.text import Tokenizer\n",
        "\n",
        "import tensorflow as tf\n",
        "import matplotlib.pyplot as plt\n",
        "import numpy as np\n",
        "import pandas as pd\n",
        "\n",
        "import os\n",
        "import re\n",
        "import string\n",
        "\n",
        "from sklearn.model_selection import train_test_split\n",
        "\n",
        "# For reproducibility\n",
        "from tensorflow import set_random_seed\n",
        "from numpy.random import seed\n",
        "seed(1)\n",
        "set_random_seed(2)"
      ],
      "execution_count": 0,
      "outputs": []
    },
    {
      "cell_type": "code",
      "metadata": {
        "id": "bZ7YNoxDyC3e",
        "colab_type": "code",
        "colab": {}
      },
      "source": [
        "#from google.colab import drive\n",
        "#drive.mount('/content/drive')"
      ],
      "execution_count": 0,
      "outputs": []
    },
    {
      "cell_type": "code",
      "metadata": {
        "id": "drdF3I5gyTr3",
        "colab_type": "code",
        "colab": {}
      },
      "source": [
        "data=pd.read_csv('/content/train_F3WbcTw.csv')\n",
        "data=data.dropna()"
      ],
      "execution_count": 0,
      "outputs": []
    },
    {
      "cell_type": "code",
      "metadata": {
        "id": "DAiR0YmryX6g",
        "colab_type": "code",
        "colab": {}
      },
      "source": [
        "# Hyperparams if GPU is available\n",
        "if tf.test.is_gpu_available():\n",
        "    # GPU\n",
        "    BATCH_SIZE = 128 # Number of examples used in each iteration\n",
        "    EPOCHS = 10 # Number of passes through entire dataset\n",
        "    VOCAB_SIZE = 30000 # Size of vocabulary dictionary\n",
        "    MAX_LEN = 500 # Max length of review (in words)\n",
        "    EMBEDDING_DIM = 40 # Dimension of word embedding vector\n",
        "\n",
        "# Hyperparams for CPU training\n",
        "else:\n",
        "    # CPU\n",
        "    BATCH_SIZE = 32\n",
        "    EPOCHS = 50\n",
        "    VOCAB_SIZE = 200000\n",
        "    MAX_LEN = 150 #90\n",
        "    EMBEDDING_DIM = 80 #40"
      ],
      "execution_count": 0,
      "outputs": []
    },
    {
      "cell_type": "code",
      "metadata": {
        "id": "6DthKk_Dyrrr",
        "colab_type": "code",
        "colab": {}
      },
      "source": [
        "LABELS=list(data['sentiment'].unique())"
      ],
      "execution_count": 0,
      "outputs": []
    },
    {
      "cell_type": "code",
      "metadata": {
        "id": "mIC05qG4y5Bh",
        "colab_type": "code",
        "colab": {
          "base_uri": "https://localhost:8080/",
          "height": 34
        },
        "outputId": "19bb65cf-1886-469e-cac5-7f2b129c462d"
      },
      "source": [
        "LABELS"
      ],
      "execution_count": 77,
      "outputs": [
        {
          "output_type": "execute_result",
          "data": {
            "text/plain": [
              "[2, 1, 0]"
            ]
          },
          "metadata": {
            "tags": []
          },
          "execution_count": 77
        }
      ]
    },
    {
      "cell_type": "code",
      "metadata": {
        "id": "CTpMmrXTzErA",
        "colab_type": "code",
        "colab": {}
      },
      "source": [
        "train,val=train_test_split(data,test_size=0.1)"
      ],
      "execution_count": 0,
      "outputs": []
    },
    {
      "cell_type": "code",
      "metadata": {
        "id": "jAnYQZb446Mf",
        "colab_type": "code",
        "colab": {
          "base_uri": "https://localhost:8080/",
          "height": 106
        },
        "outputId": "aaaab96f-7608-448a-9263-1a60ae96bfc8"
      },
      "source": [
        "# How a row/sample looks like\n",
        "print(\"\\n--- First Sample ---\")\n",
        "print('Label:', train['sentiment'][0])\n",
        "print('Text:', train['text'][0])"
      ],
      "execution_count": 79,
      "outputs": [
        {
          "output_type": "stream",
          "text": [
            "\n",
            "--- First Sample ---\n",
            "Label: 2\n",
            "Text: Autoimmune diseases tend to come in clusters. As for Gilenya – if you feel good, don’t think about it, it won’t change anything but waste your time and energy. I’m taking Tysabri and feel amazing, no symptoms (other than dodgy color vision, but I’ve had it since always, so, don’t know) and I don’t know if it will last a month, a year, a decade, ive just decided to enjoy the ride, no point in worrying.\n"
          ],
          "name": "stdout"
        }
      ]
    },
    {
      "cell_type": "code",
      "metadata": {
        "id": "kNbol6wz5bkC",
        "colab_type": "code",
        "colab": {
          "base_uri": "https://localhost:8080/",
          "height": 295
        },
        "outputId": "1b65a2f5-a421-4806-dbbd-dcf0414098e7"
      },
      "source": [
        "# Custom Tokenizer\n",
        "re_tok = re.compile(f'([{string.punctuation}“”¨«»®´·º½¾¿¡§£₤‘’])')\n",
        "def tokenize(s): return re_tok.sub(r' \\1 ', s).split()\n",
        "\n",
        "# Plot sentence by lenght\n",
        "plt.hist([len(tokenize(s)) for s in train['text'].values], bins=50)\n",
        "plt.title('Tokens per sentence')\n",
        "plt.xlabel('Len (number of token)')\n",
        "plt.ylabel('# samples')\n",
        "plt.show()"
      ],
      "execution_count": 80,
      "outputs": [
        {
          "output_type": "display_data",
          "data": {
            "image/png": "[encoded data removed]",
            "text/plain": [
              "<Figure size 432x288 with 1 Axes>"
            ]
          },
          "metadata": {
            "tags": []
          }
        }
      ]
    },
    {
      "cell_type": "code",
      "metadata": {
        "id": "mxSwDbZu5lie",
        "colab_type": "code",
        "colab": {}
      },
      "source": [
        ""
      ],
      "execution_count": 0,
      "outputs": []
    },
    {
      "cell_type": "markdown",
      "metadata": {
        "id": "c-EMu08K5tMt",
        "colab_type": "text"
      },
      "source": [
        "DATA PREPROCESSING"
      ]
    },
    {
      "cell_type": "markdown",
      "metadata": {
        "id": "_QNEp2GC54Py",
        "colab_type": "text"
      },
      "source": [
        "Before feeding the data into the model, we have to preprocess the text.\n",
        "\n",
        "    We will use the Keras Tokenizer to convert each word to a corresponding integer ID. Representing words as integers saves a lot of memory!\n",
        "    In order to feed the text into our CNN, all texts should be the same length. We ensure this using the sequence.pad_sequences() method and MAX_LEN variable. All texts longer than MAX_LEN are truncated and shorter texts are padded to get them to the same length.\n",
        "\n",
        "The Tokens per sentence plot (see above) is useful for setting the MAX_LEN training hyperparameter."
      ]
    },
    {
      "cell_type": "code",
      "metadata": {
        "id": "Nt5iaN8L55A4",
        "colab_type": "code",
        "colab": {
          "base_uri": "https://localhost:8080/",
          "height": 298
        },
        "outputId": "3a7af5d8-e797-457a-822c-1ed2b219822a"
      },
      "source": [
        "sentiment_tokenizer = Tokenizer(num_words=VOCAB_SIZE)\n",
        "sentiment_tokenizer.fit_on_texts(train['text'].values)\n",
        "\n",
        "x_train_seq = sentiment_tokenizer.texts_to_sequences(train['text'].values)\n",
        "x_val_seq = sentiment_tokenizer.texts_to_sequences(val['text'].values)\n",
        "\n",
        "x_train = sequence.pad_sequences(x_train_seq, maxlen=MAX_LEN, padding=\"post\", value=0)\n",
        "x_val = sequence.pad_sequences(x_val_seq, maxlen=MAX_LEN, padding=\"post\", value=0)\n",
        "\n",
        "y_train, y_val = train['sentiment'].values, val['sentiment'].values\n",
        "\n",
        "print('First sample before preprocessing: \\n', train['text'].values[0], '\\n')\n",
        "print('First sample after preprocessing: \\n', x_train[0])"
      ],
      "execution_count": 81,
      "outputs": [
        {
          "output_type": "stream",
          "text": [
            "First sample before preprocessing: \n",
            " \"Remicade just isn't working for me or not yet. When I did my 1 and 2 infusions I could tell a difference. I had my 3 on and have to wait 8 weeks. After 3 weeks I had a flare up and I am in week 6 and I still feel awful. Maybe I need them more frequently or a higher dose. I am feeling so darn frustrated. I was hoping for a miracle drug to make me feel better and so far it's not. I read how it helps everyone but I want that for me too! Can't wait to see my dr so we can get ask up and the pain\" \n",
            "\n",
            "First sample after preprocessing: \n",
            " [ 144   78 1265  350    8   44   12   23  447   62    7  152   17   40\n",
            "    2   48  723    7  121  290    5  956    7   34   17   59   14    2\n",
            "   16    4  834  154  106   53   59  106    7   34    5  702   69    2\n",
            "    7   84    6  140   87    2    7  134  233 2639  514    7  160  178\n",
            "   41 1793   12    5  555  120    7   84  405   38 6634 4011    7   18\n",
            " 1017    8    5 2973   64    4  181   44  233  171    2   38  460  270\n",
            "   23    7  250  101   13  770  616   26    7  288   11    8   44  264\n",
            "  986  834    4  116   17  215   38   61   39   75  515   69    2    1\n",
            "  137    0    0    0    0    0    0    0    0    0    0    0    0    0\n",
            "    0    0    0    0    0    0    0    0    0    0    0    0    0    0\n",
            "    0    0    0    0    0    0    0    0    0    0]\n"
          ],
          "name": "stdout"
        }
      ]
    },
    {
      "cell_type": "code",
      "metadata": {
        "id": "3Ijut2Z_69oz",
        "colab_type": "code",
        "colab": {}
      },
      "source": [
        "#Network\n",
        "\n",
        "\n",
        "\n",
        "# Model Parameters - You can play with these\n",
        "\n",
        "NUM_FILTERS = 250\n",
        "KERNEL_SIZE = 3\n",
        "HIDDEN_DIMS = 250\n",
        "\n",
        "\n"
      ],
      "execution_count": 0,
      "outputs": []
    },
    {
      "cell_type": "code",
      "metadata": {
        "id": "sdx0OQAx7D5C",
        "colab_type": "code",
        "colab": {
          "base_uri": "https://localhost:8080/",
          "height": 469
        },
        "outputId": "ecf52ae9-cfbb-41a6-c705-2525fbadd09a"
      },
      "source": [
        "# CNN Model\n",
        "print('Build model...')\n",
        "model = Sequential()\n",
        "\n",
        "# we start off with an efficient embedding layer which maps\n",
        "# our vocab indices into EMBEDDING_DIM dimensions\n",
        "model.add(Embedding(VOCAB_SIZE, EMBEDDING_DIM, input_length=MAX_LEN))\n",
        "model.add(Dropout(0.2))\n",
        "\n",
        "# we add a Convolution1D, which will learn NUM_FILTERS filters\n",
        "model.add(Conv1D(NUM_FILTERS,\n",
        "                 KERNEL_SIZE,\n",
        "                 padding='valid',\n",
        "                 activation='relu',\n",
        "                 strides=1))\n",
        "\n",
        "# we use max pooling:\n",
        "model.add(GlobalMaxPooling1D())\n",
        "\n",
        "# We add a vanilla hidden layer:\n",
        "model.add(Dense(HIDDEN_DIMS))\n",
        "model.add(Dropout(0.2))\n",
        "model.add(Activation('relu'))\n",
        "\n",
        "# We project onto a single unit output layer, and squash it with a sigmoid:\n",
        "model.add(Dense(1))\n",
        "model.add(Activation('sigmoid'))\n",
        "model.compile(loss='binary_crossentropy', optimizer='adam', metrics=['accuracy'])\n",
        "model.summary()"
      ],
      "execution_count": 83,
      "outputs": [
        {
          "output_type": "stream",
          "text": [
            "Build model...\n",
            "_________________________________________________________________\n",
            "Layer (type)                 Output Shape              Param #   \n",
            "=================================================================\n",
            "embedding_4 (Embedding)      (None, 150, 80)           16000000  \n",
            "_________________________________________________________________\n",
            "dropout_7 (Dropout)          (None, 150, 80)           0         \n",
            "_________________________________________________________________\n",
            "conv1d_4 (Conv1D)            (None, 148, 250)          60250     \n",
            "_________________________________________________________________\n",
            "global_max_pooling1d_4 (Glob (None, 250)               0         \n",
            "_________________________________________________________________\n",
            "dense_7 (Dense)              (None, 250)               62750     \n",
            "_________________________________________________________________\n",
            "dropout_8 (Dropout)          (None, 250)               0         \n",
            "_________________________________________________________________\n",
            "activation_7 (Activation)    (None, 250)               0         \n",
            "_________________________________________________________________\n",
            "dense_8 (Dense)              (None, 1)                 251       \n",
            "_________________________________________________________________\n",
            "activation_8 (Activation)    (None, 1)                 0         \n",
            "=================================================================\n",
            "Total params: 16,123,251\n",
            "Trainable params: 16,123,251\n",
            "Non-trainable params: 0\n",
            "_________________________________________________________________\n"
          ],
          "name": "stdout"
        }
      ]
    },
    {
      "cell_type": "code",
      "metadata": {
        "id": "ra5JG_kT7KYW",
        "colab_type": "code",
        "colab": {}
      },
      "source": [
        ""
      ],
      "execution_count": 0,
      "outputs": []
    },
    {
      "cell_type": "markdown",
      "metadata": {
        "id": "Up3PIqc47O7l",
        "colab_type": "text"
      },
      "source": [
        "\n",
        "**Train & Evaluate**\n",
        "\n",
        "If you left the default hyperpameters in the Notebook untouched, your training should take approximately:\n",
        "\n",
        "    On CPU machine: 2 minutes for 2 epochs.\n",
        "    On GPU machine: 1 minute for 2 epochs.\n",
        "\n",
        "You should get an accuracy of > 84%. Note: The model will start overfitting after 2 to 3 epochs.\n"
      ]
    },
    {
      "cell_type": "code",
      "metadata": {
        "id": "-aBCnf8L7PfF",
        "colab_type": "code",
        "colab": {
          "base_uri": "https://localhost:8080/",
          "height": 191
        },
        "outputId": "c3ec3c17-4303-476a-aa7e-63a2eab20059"
      },
      "source": [
        "# fit a model\n",
        "model.fit(x_train, y_train,\n",
        "          batch_size=BATCH_SIZE,\n",
        "          epochs=EPOCHS,\n",
        "          validation_split=0.1,\n",
        "          verbose=2)\n",
        "\n",
        "# Evaluate the model\n",
        "score, acc = model.evaluate(x_val, y_val, batch_size=BATCH_SIZE)\n",
        "print('\\nAccuracy: ', acc*100)\n",
        "\n",
        "pred = model.predict_classes(x_val)"
      ],
      "execution_count": 0,
      "outputs": [
        {
          "output_type": "stream",
          "text": [
            "Train on 4275 samples, validate on 476 samples\n",
            "Epoch 1/50\n",
            " - 46s - loss: -8.1627e+00 - acc: 0.1609 - val_loss: -9.1769e+00 - val_acc: 0.1639\n",
            "Epoch 2/50\n",
            " - 44s - loss: -9.7109e+00 - acc: 0.1612 - val_loss: -9.1769e+00 - val_acc: 0.1639\n",
            "Epoch 3/50\n",
            " - 44s - loss: -9.7109e+00 - acc: 0.1612 - val_loss: -9.1769e+00 - val_acc: 0.1639\n",
            "Epoch 4/50\n",
            " - 44s - loss: -9.7109e+00 - acc: 0.1612 - val_loss: -9.1769e+00 - val_acc: 0.1639\n",
            "Epoch 5/50\n"
          ],
          "name": "stdout"
        }
      ]
    },
    {
      "cell_type": "code",
      "metadata": {
        "id": "EIaHop4C7XJ7",
        "colab_type": "code",
        "colab": {}
      },
      "source": [
        ""
      ],
      "execution_count": 0,
      "outputs": []
    },
    {
      "cell_type": "code",
      "metadata": {
        "id": "8y_tevZa7jMn",
        "colab_type": "code",
        "colab": {}
      },
      "source": [
        ""
      ],
      "execution_count": 0,
      "outputs": []
    }
  ]
}